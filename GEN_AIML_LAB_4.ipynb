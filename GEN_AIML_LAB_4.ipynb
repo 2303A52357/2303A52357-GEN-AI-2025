{
  "nbformat": 4,
  "nbformat_minor": 0,
  "metadata": {
    "colab": {
      "provenance": []
    },
    "kernelspec": {
      "name": "python3",
      "display_name": "Python 3"
    },
    "language_info": {
      "name": "python"
    }
  },
  "cells": [
    {
      "cell_type": "markdown",
      "source": [
        "J.SATHWIK\n",
        "\n",
        "2303a52357\n",
        "\n",
        "BATCH:33"
      ],
      "metadata": {
        "id": "eqV9NpgGzOH8"
      }
    },
    {
      "cell_type": "markdown",
      "source": [
        "PROBLEM 1"
      ],
      "metadata": {
        "id": "6O6sDB7Nzuqs"
      }
    },
    {
      "cell_type": "code",
      "source": [
        "import numpy as np\n",
        "X_train = np.array([[0.1, 0.2, 0.3],\n",
        "                    [0.2, 0.3, 0.4],\n",
        "                    [0.3, 0.4, 0.5],\n",
        "                    [0.5, 0.6, 0.7],\n",
        "                    [0.1, 0.3, 0.5],\n",
        "                    [0.2, 0.4, 0.6],\n",
        "                    [0.3, 0.5, 0.7],\n",
        "                    [0.4, 0.6, 0.8],\n",
        "                    [0.5, 0.7, 0.1]])\n",
        "y_train = np.array([0.14, 0.20, 0.26, 0.38, 0.22, 0.28, 0.34, 0.40, 0.22])\n",
        "weights = np.random.rand(3)\n",
        "bias = np.random.rand()\n",
        "learning_rate = 0.01\n",
        "iterations = 1000\n",
        "def linear_activation(x):\n",
        "    return x\n",
        "def mean_square_error(y_true, y_pred):\n",
        "    return np.mean((y_true - y_pred) ** 2)\n",
        "for _ in range(iterations):\n",
        "\n",
        "    y_pred = linear_activation(np.dot(X_train, weights) + bias)\n",
        "\n",
        "\n",
        "    error = y_train - y_pred\n",
        "\n",
        "\n",
        "    d_weights = -2 * np.dot(X_train.T, error) / len(X_train)\n",
        "    d_bias = -2 * np.mean(error)\n",
        "\n",
        "\n",
        "    weights -= learning_rate * d_weights\n",
        "    bias -= learning_rate * d_bias\n",
        "\n",
        "print(f\"Trained weights: {weights}\")\n",
        "print(f\"Trained bias: {bias}\")\n"
      ],
      "metadata": {
        "colab": {
          "base_uri": "https://localhost:8080/"
        },
        "id": "koo2ZmaQzw00",
        "outputId": "356ff09b-0bc4-483e-db1b-a0eed268268d"
      },
      "execution_count": 1,
      "outputs": [
        {
          "output_type": "stream",
          "name": "stdout",
          "text": [
            "Trained weights: [0.14986066 0.24742023 0.25486744]\n",
            "Trained bias: -0.012852922109865826\n"
          ]
        }
      ]
    },
    {
      "cell_type": "code",
      "source": [
        "\n",
        "X_test = np.array([[0.6, 0.7, 0.8],\n",
        "                   [0.7, 0.8, 0.9]])\n",
        "y_test = np.array([0.44, 0.50])\n",
        "\n",
        "\n",
        "y_train_pred = linear_activation(np.dot(X_train, weights) + bias)\n",
        "mse_train = mean_square_error(y_train, y_train_pred)\n",
        "\n",
        "\n",
        "y_test_pred = linear_activation(np.dot(X_test, weights) + bias)\n",
        "mse_test = mean_square_error(y_test, y_test_pred)\n",
        "\n",
        "print(f\"MSE Train: {mse_train}\")\n",
        "print(f\"MSE test: {mse_test}\")"
      ],
      "metadata": {
        "colab": {
          "base_uri": "https://localhost:8080/"
        },
        "id": "-DzwtOA_0IFD",
        "outputId": "071f8d7c-45f6-49ef-82bd-fafecea195c5"
      },
      "execution_count": 2,
      "outputs": [
        {
          "output_type": "stream",
          "name": "stdout",
          "text": [
            "MSE Train: 0.00026085213806405997\n",
            "MSE test: 0.0002876629178923467\n"
          ]
        }
      ]
    },
    {
      "cell_type": "code",
      "source": [
        "\n",
        "\n",
        "def predict(x):\n",
        "    return linear_activation(np.dot(x, weights) + bias)\n",
        "\n",
        "# Read input data from the user\n",
        "x1 = float(input(\"Enter value for x1: \"))\n",
        "x2 = float(input(\"Enter value for x2: \"))\n",
        "x3 = float(input(\"Enter value for x3: \"))\n",
        "\n",
        "# Predict output using the trained model\n",
        "new_input = np.array([x1, x2, x3])\n",
        "predicted_output = predict(new_input)\n",
        "\n",
        "print(f\"Predicted output: {predicted_output}\")"
      ],
      "metadata": {
        "colab": {
          "base_uri": "https://localhost:8080/"
        },
        "id": "d5FdjBHi06ST",
        "outputId": "674db7ed-de11-450a-f905-0a537ea3c202"
      },
      "execution_count": 4,
      "outputs": [
        {
          "output_type": "stream",
          "name": "stdout",
          "text": [
            "Enter value for x1: 0.4\n",
            "Enter value for x2: 3.5\n",
            "Enter value for x3: 0.9\n",
            "Predicted output: 1.1424428586673159\n"
          ]
        }
      ]
    },
    {
      "cell_type": "markdown",
      "source": [
        "PROBLEM 2"
      ],
      "metadata": {
        "id": "6plYc1oB1BSb"
      }
    },
    {
      "cell_type": "code",
      "source": [
        "\n",
        "import numpy as np\n",
        "def sigmoid(x):\n",
        "    return 1 / (1 + np.exp(-x))\n",
        "def sigmoid_derivative(x):\n",
        "    return x * (1 - x)\n",
        "X_train = np.array([[0.1, 0.2, 0.3],\n",
        "                    [0.2, 0.3, 0.4],\n",
        "                    [0.3, 0.4, 0.5],\n",
        "                    [0.5, 0.6, 0.7],\n",
        "                    [0.1, 0.3, 0.5],\n",
        "                    [0.2, 0.4, 0.6],\n",
        "                    [0.3, 0.5, 0.7],\n",
        "                    [0.4, 0.6, 0.8],\n",
        "                    [0.5, 0.7, 0.1]])\n",
        "\n",
        "y_train = np.array([[0.5349],\n",
        "                    [0.5498],\n",
        "                    [0.5646],\n",
        "                    [0.5939],\n",
        "                    [0.5548],\n",
        "                    [0.5695],\n",
        "                    [0.5842],\n",
        "                    [0.5987],\n",
        "                    [0.5548]])\n",
        "weights = np.random.rand(3, 1)\n",
        "bias = np.random.rand(1)\n",
        "learning_rate = 0.01\n",
        "iterations = 1000\n",
        "\n",
        "for _ in range(iterations):\n",
        "    # Forward pass\n",
        "    z = np.dot(X_train, weights) + bias\n",
        "    y_pred = sigmoid(z)\n",
        "\n",
        "    # Calculate error\n",
        "    error = y_train - y_pred\n",
        "\n",
        "    # Backward pass (calculate gradients)\n",
        "    d_weights = np.dot(X_train.T, error * sigmoid_derivative(y_pred))\n",
        "    d_bias = np.sum(error * sigmoid_derivative(y_pred))\n",
        "\n",
        "    # Update weights and bias\n",
        "    weights += learning_rate * d_weights\n",
        "    bias += learning_rate * d_bias\n",
        "\n",
        "print(f\"Trained weights: {weights}\")\n",
        "print(f\"Trained bias: {bias}\")"
      ],
      "metadata": {
        "colab": {
          "base_uri": "https://localhost:8080/"
        },
        "id": "YcyVAQ8T1FWb",
        "outputId": "ba92cd3e-e428-470a-f978-bace6704c156"
      },
      "execution_count": 5,
      "outputs": [
        {
          "output_type": "stream",
          "name": "stdout",
          "text": [
            "Trained weights: [[ 0.67412173]\n",
            " [-0.10173962]\n",
            " [ 0.30910836]]\n",
            "Trained bias: [-0.03804677]\n"
          ]
        }
      ]
    },
    {
      "cell_type": "code",
      "source": [
        "\n",
        "\n",
        "X_test = np.array([[0.6, 0.7, 0.8],\n",
        "                   [0.7, 0.8, 0.9]])\n",
        "\n",
        "y_test = np.array([[0.6083],\n",
        "                   [0.6225]])\n",
        "def mean_square_error(y_true, y_pred):\n",
        "    return np.mean((y_true - y_pred) ** 2)\n",
        "y_train_pred = sigmoid(np.dot(X_train, weights) + bias)\n",
        "mse_train = mean_square_error(y_train, y_train_pred)\n",
        "y_test_pred = sigmoid(np.dot(X_test, weights) + bias)\n",
        "mse_test = mean_square_error(y_test, y_test_pred)\n",
        "\n",
        "print(f\"MSE Training Data: {mse_train}\")\n",
        "print(f\"MSE for Testing Data: {mse_test}\")"
      ],
      "metadata": {
        "colab": {
          "base_uri": "https://localhost:8080/"
        },
        "id": "8SX2XG-L1iv7",
        "outputId": "efa79ee5-55b3-4c66-951c-b9b035b123ef"
      },
      "execution_count": 6,
      "outputs": [
        {
          "output_type": "stream",
          "name": "stdout",
          "text": [
            "MSE Training Data: 0.000100948645194142\n",
            "MSE for Testing Data: 0.0007443037893021026\n"
          ]
        }
      ]
    },
    {
      "cell_type": "code",
      "source": [
        "\n",
        "\n",
        "def predict(x):\n",
        "    return sigmoid(np.dot(x, weights) + bias)\n",
        "\n",
        "# Read input data from the user\n",
        "x1 = float(input(\"Enter value for x1: \"))\n",
        "x2 = float(input(\"Enter value for x2: \"))\n",
        "x3 = float(input(\"Enter value for x3: \"))\n",
        "new_input = np.array([x1, x2, x3])\n",
        "predicted_output = predict(new_input)\n",
        "\n",
        "print(f\"Predicted output: {predicted_output}\")"
      ],
      "metadata": {
        "colab": {
          "base_uri": "https://localhost:8080/"
        },
        "id": "HkB3kD2I1rmb",
        "outputId": "5350b09e-b477-4e26-9b6a-aead3909b2ed"
      },
      "execution_count": 7,
      "outputs": [
        {
          "output_type": "stream",
          "name": "stdout",
          "text": [
            "Enter value for x1: 1.8\n",
            "Enter value for x2: 5.6\n",
            "Enter value for x3: 8\n",
            "Predicted output: [0.95599702]\n"
          ]
        }
      ]
    }
  ]
}