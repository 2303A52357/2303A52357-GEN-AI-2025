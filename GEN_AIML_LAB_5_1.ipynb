{
  "nbformat": 4,
  "nbformat_minor": 0,
  "metadata": {
    "colab": {
      "provenance": []
    },
    "kernelspec": {
      "name": "python3",
      "display_name": "Python 3"
    },
    "language_info": {
      "name": "python"
    }
  },
  "cells": [
    {
      "cell_type": "markdown",
      "source": [],
      "metadata": {
        "id": "S0yy3J3F-Kok"
      }
    },
    {
      "cell_type": "markdown",
      "source": [
        "ASSIGNMENT-5.1.5\n",
        "\n",
        "23203a52357\n",
        "\n",
        "batch:3"
      ],
      "metadata": {
        "id": "E6MFfala-Lsd"
      }
    },
    {
      "cell_type": "code",
      "source": [
        "import numpy as np\n",
        "def sigmoid(x):\n",
        "    return 1 / (1 + np.exp(-x))\n",
        "def sigmoid_derivative(x):\n",
        "    return x * (1 - x)\n",
        "np.random.seed(42)\n",
        "input_layer_neurons = 2\n",
        "hidden_layer_neurons = 2\n",
        "output_neuron = 1\n",
        "\n",
        "W1 = np.random.rand(input_layer_neurons, hidden_layer_neurons)\n",
        "b1 = np.random.rand(hidden_layer_neurons)\n",
        "W2 = np.random.rand(hidden_layer_neurons, output_neuron)\n",
        "b2 = np.random.rand(output_neuron)"
      ],
      "metadata": {
        "id": "7x0Fsx02-WG8"
      },
      "execution_count": 1,
      "outputs": []
    },
    {
      "cell_type": "code",
      "source": [
        "X_train = np.array([[0.1, 0.2], [0.2, 0.3], [0.3, 0.4], [0.6, 0.7], [0.7, 0.8], [0.8, 0.9]])\n",
        "y_train = np.array([[0.3432], [0.3490], [0.3548], [0.3720], [0.3776], [0.3832]])\n",
        "\n",
        "learning_rate = 0.1\n",
        "epochs = 10000\n",
        "\n",
        "for _ in range(epochs):\n",
        "    hidden_layer_input = np.dot(X_train, W1) + b1\n",
        "    hidden_layer_output = sigmoid(hidden_layer_input)\n",
        "    output_layer_input = np.dot(hidden_layer_output, W2) + b2\n",
        "    predicted_output = output_layer_input\n",
        "    error = y_train - predicted_output\n",
        "    d_predicted_output = error\n",
        "    d_hidden_layer = d_predicted_output.dot(W2.T) * sigmoid_derivative(hidden_layer_output)\n",
        "    W2 += hidden_layer_output.T.dot(d_predicted_output) * learning_rate\n",
        "    b2 += np.sum(d_predicted_output, axis=0) * learning_rate\n",
        "    W1 += X_train.T.dot(d_hidden_layer) * learning_rate\n",
        "    b1 += np.sum(d_hidden_layer, axis=0) * learning_rate"
      ],
      "metadata": {
        "id": "Zhzcdam9-c3E"
      },
      "execution_count": 2,
      "outputs": []
    },
    {
      "cell_type": "code",
      "source": [
        "X_test = np.array([[0.4, 0.5], [0.5, 0.6]])\n",
        "y_test = np.array([[0.3606], [0.3663]])\n",
        "hidden_layer_output_train = sigmoid(np.dot(X_train, W1) + b1)\n",
        "predicted_output_train = np.dot(hidden_layer_output_train, W2) + b2\n",
        "hidden_layer_output_test = sigmoid(np.dot(X_test, W1) + b1)\n",
        "predicted_output_test = np.dot(hidden_layer_output_test, W2) + b2\n",
        "\n",
        "mse_train = np.mean((y_train - predicted_output_train) ** 2)\n",
        "mse_test = np.mean((y_test - predicted_output_test) ** 2)\n",
        "\n",
        "print(f'Training MSE: {mse_train}')\n",
        "print(f'Testing MSE: {mse_test}')"
      ],
      "metadata": {
        "colab": {
          "base_uri": "https://localhost:8080/"
        },
        "id": "y_l9MOV2-h42",
        "outputId": "9e831009-c901-4a0e-df2d-f0574e93dd48"
      },
      "execution_count": 3,
      "outputs": [
        {
          "output_type": "stream",
          "name": "stdout",
          "text": [
            "Training MSE: 4.647810262924023e-07\n",
            "Testing MSE: 1.21760105376308e-06\n"
          ]
        }
      ]
    },
    {
      "cell_type": "code",
      "source": [
        "def predict(x1, x2):\n",
        "    input_data = np.array([[x1, x2]])\n",
        "    hidden_layer_output = sigmoid(np.dot(input_data, W1) + b1)\n",
        "    predicted_output = np.dot(hidden_layer_output, W2) + b2\n",
        "    return predicted_output[0]\n",
        "x1 = float(input('Enter x1: '))\n",
        "x2 = float(input('Enter x2: '))\n",
        "predicted_output = predict(x1, x2)\n",
        "print(f'Predicted Output: {predicted_output}')\n"
      ],
      "metadata": {
        "colab": {
          "base_uri": "https://localhost:8080/"
        },
        "id": "Hykx06ay-mO8",
        "outputId": "b3789d8d-5cfe-43bd-f9ae-b95ce841e83f"
      },
      "execution_count": 4,
      "outputs": [
        {
          "output_type": "stream",
          "name": "stdout",
          "text": [
            "Enter x1: 0.8\n",
            "Enter x2: 0.9\n",
            "Predicted Output: [0.38222014]\n"
          ]
        }
      ]
    }
  ]
}