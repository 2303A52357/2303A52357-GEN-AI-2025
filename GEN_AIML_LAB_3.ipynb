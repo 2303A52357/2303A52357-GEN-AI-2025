{
  "nbformat": 4,
  "nbformat_minor": 0,
  "metadata": {
    "colab": {
      "provenance": []
    },
    "kernelspec": {
      "name": "python3",
      "display_name": "Python 3"
    },
    "language_info": {
      "name": "python"
    }
  },
  "cells": [
    {
      "cell_type": "markdown",
      "source": [
        "SATHWIK\n",
        "\n",
        "2303a52357\n",
        "\n",
        "BATCH:33"
      ],
      "metadata": {
        "id": "6srmifKIxR3F"
      }
    },
    {
      "cell_type": "markdown",
      "source": [
        "PROBLEM 1\n"
      ],
      "metadata": {
        "id": "dCwir31Rxb0k"
      }
    },
    {
      "cell_type": "code",
      "source": [
        "def f(x):\n",
        "    return 5 * x**4 + 3 * x**2 + 10\n",
        "\n",
        "def f_prime(x):\n",
        "    return 20 * x**3 + 6 * x\n",
        "\n",
        "def gradient_descent(learning_rate, iterations):\n",
        "    x = 0  # Starting point\n",
        "    for _ in range(iterations):\n",
        "        x = x - learning_rate * f_prime(x)\n",
        "    return x\n",
        "\n",
        "learning_rate = 0.01\n",
        "iterations = 1000\n",
        "min_x = gradient_descent(learning_rate, iterations)\n",
        "print(f\"Minimum value of x for f(x) is {min_x}\")"
      ],
      "metadata": {
        "colab": {
          "base_uri": "https://localhost:8080/"
        },
        "id": "nRofkt3jxfP8",
        "outputId": "8ee7018b-ddcb-4519-98f5-731abb13447d"
      },
      "execution_count": 1,
      "outputs": [
        {
          "output_type": "stream",
          "name": "stdout",
          "text": [
            "Minimum value of x for f(x) is 0.0\n"
          ]
        }
      ]
    },
    {
      "cell_type": "markdown",
      "source": [
        "PROBLEM 2"
      ],
      "metadata": {
        "id": "xbv_APIaxnks"
      }
    },
    {
      "cell_type": "code",
      "source": [
        "import math\n",
        "\n",
        "def g(x, y):\n",
        "    return 3 * x**2 + 5 * math.exp(-y) + 10\n",
        "\n",
        "def g_prime_x(x, y):\n",
        "    return 6 * x\n",
        "\n",
        "def g_prime_y(x, y):\n",
        "    return -5 * math.exp(-y)\n",
        "\n",
        "def gradient_descent_2d(learning_rate, iterations):\n",
        "    x, y = 0, 0  # Starting points\n",
        "    for _ in range(iterations):\n",
        "        x = x - learning_rate * g_prime_x(x, y)\n",
        "        y = y - learning_rate * g_prime_y(x, y)\n",
        "    return x, y\n",
        "\n",
        "learning_rate = 0.01\n",
        "iterations = 1000\n",
        "min_x, min_y = gradient_descent_2d(learning_rate, iterations)\n",
        "print(f\"Minimum values of x and y for g(x, y) are {min_x} and {min_y}\")"
      ],
      "metadata": {
        "colab": {
          "base_uri": "https://localhost:8080/"
        },
        "id": "wkF1mXJDxqDs",
        "outputId": "c4925b72-a4be-40d8-d44b-cec8cf92e5b5"
      },
      "execution_count": 2,
      "outputs": [
        {
          "output_type": "stream",
          "name": "stdout",
          "text": [
            "Minimum values of x and y for g(x, y) are 0.0 and 3.9337602416246904\n"
          ]
        }
      ]
    },
    {
      "cell_type": "markdown",
      "source": [
        "PROBLEM 3"
      ],
      "metadata": {
        "id": "5YTNek8Dx3w0"
      }
    },
    {
      "cell_type": "code",
      "source": [
        "def z(x):\n",
        "    return 1 / (1 + math.exp(-x))\n",
        "\n",
        "def z_prime(x):\n",
        "    sigmoid = z(x)\n",
        "    return sigmoid * (1 - sigmoid)\n",
        "\n",
        "def gradient_descent_sigmoid(learning_rate, iterations):\n",
        "    x = 0  # Starting point\n",
        "    for _ in range(iterations):\n",
        "        x = x - learning_rate * z_prime(x)\n",
        "    return x\n",
        "\n",
        "learning_rate = 0.01\n",
        "iterations = 1000\n",
        "min_x_sigmoid = gradient_descent_sigmoid(learning_rate, iterations)\n",
        "print(f\"Minimum value of x for z(x) is {min_x_sigmoid}\")\n"
      ],
      "metadata": {
        "colab": {
          "base_uri": "https://localhost:8080/"
        },
        "id": "JQtw0G4wx67M",
        "outputId": "c5a55fa1-e5c4-4e01-8f68-640770bcaaac"
      },
      "execution_count": 3,
      "outputs": [
        {
          "output_type": "stream",
          "name": "stdout",
          "text": [
            "Minimum value of x for z(x) is -1.8618354629020137\n"
          ]
        }
      ]
    },
    {
      "cell_type": "markdown",
      "source": [
        "PROBLEM 4"
      ],
      "metadata": {
        "id": "4yDXg-w8yAWU"
      }
    },
    {
      "cell_type": "code",
      "source": [
        "\n",
        "\n",
        "expected_output = [1, 2, 3, 4, 5]\n",
        "predicted_output = [2, 3, 4, 5, 6]\n",
        "\n",
        "\n",
        "M = 0\n",
        "C = 0\n",
        "\n",
        "learning_rate = 0.01\n",
        "\n",
        "iterations = 1000\n",
        "\n",
        "def predict(x, M, C):\n",
        "    return M * x + C\n",
        "\n",
        "def square_error(expected, predicted):\n",
        "    return (expected - predicted) ** 2\n",
        "\n",
        "def gradient_descent(expected_output, predicted_output, learning_rate, iterations):\n",
        "    global M, C\n",
        "    n = len(expected_output)\n",
        "\n",
        "    for _ in range(iterations):\n",
        "        dM = 0\n",
        "        dC = 0\n",
        "        for i in range(n):\n",
        "            dM += -2 * predicted_output[i] * (expected_output[i] - predict(predicted_output[i], M, C))\n",
        "            dC += -2 * (expected_output[i] - predict(predicted_output[i], M, C))\n",
        "        M -= (dM / n) * learning_rate\n",
        "        C -= (dC / n) * learning_rate\n",
        "\n",
        "    return M, C\n",
        "\n",
        "optimal_M, optimal_C = gradient_descent(expected_output, predicted_output, learning_rate, iterations)\n",
        "print(f\"Optimal values of M and C are: M = {optimal_M}, C = {optimal_C}\")"
      ],
      "metadata": {
        "colab": {
          "base_uri": "https://localhost:8080/"
        },
        "id": "58EZ63MvyCuT",
        "outputId": "4b688acf-ae86-456f-bb26-19f1d53db4c3"
      },
      "execution_count": 4,
      "outputs": [
        {
          "output_type": "stream",
          "name": "stdout",
          "text": [
            "Optimal values of M and C are: M = 0.9687112245577285, C = -0.8600285123045526\n"
          ]
        }
      ]
    }
  ]
}